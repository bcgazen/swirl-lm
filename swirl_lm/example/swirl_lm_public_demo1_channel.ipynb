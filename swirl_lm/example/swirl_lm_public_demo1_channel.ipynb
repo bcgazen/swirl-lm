{
  "cells": [
    {
      "cell_type": "markdown",
      "metadata": {
        "id": "9hFspV_AIBs9"
      },
      "source": [
        "# Example 1: A Laminar Channel Flow\n",
        "\n",
        "[![Open In Colab](https://colab.research.google.com/assets/colab-badge.svg)](https://colab.research.google.com/github/google-research/swirl-lm/blob/main/swirl_lm/example/swirl_lm_public_demo1_channel.ipynb)\n",
        "\n",
        "\n",
        "The example in this colab shows how to run a laminar channel flow with Swirl-LM on TPU. It shows how libraries in Swirl-LM is loaded and build, and the key\n",
        "components to set up a simulation with Swirl-LM.\n",
        "\n",
        "Note that this colab requires connection to a runtime with TPU. Before you run this Colab notebook, make sure that your hardware accelerator is a TPU by checking your notebook settings: **Runtime** \u003e **Change runtime type** \u003e **Hardware accelerator** \u003e **TPU**. The default TPU runtime has 8 cores available."
      ]
    },
    {
      "cell_type": "code",
      "execution_count": null,
      "metadata": {
        "id": "_kRksQQC3QSy"
      },
      "outputs": [],
      "source": [
        "%%shell\n",
        "pip uninstall swirl_lm -y\n",
        "pip install git+https://github.com/google-research/swirl-lm\n",
        "pip show swirl-lm\n",
        "\n",
        "PYTHON_PACKAGES=/usr/local/lib/python3.7/dist-packages\n",
        "proto_names=(\n",
        "    'base/parameters.proto'\n",
        "    'boundary_condition/boundary_conditions.proto'\n",
        "    'boundary_condition/boundary_models.proto'\n",
        "    'boundary_condition/immersed_boundary_method.proto'\n",
        "    'boundary_condition/monin_obukhov_similarity_theory.proto'\n",
        "    'boundary_condition/rayleigh_damping_layer.proto'\n",
        "    'equations/pressure.proto'\n",
        "    'equations/scalars.proto'\n",
        "    'linalg/poisson_solver.proto'\n",
        "    'numerics/numerics.proto'\n",
        "    'physics/combustion/combustion.proto'\n",
        "    'physics/combustion/wood.proto'\n",
        "    'physics/thermodynamics/thermodynamics.proto'\n",
        "    'utility/grid_parametrization.proto'\n",
        "    'utility/monitor.proto'\n",
        "    'utility/probe.proto'\n",
        ")\n",
        "\n",
        "for proto in ${proto_names[@]}\n",
        "do\n",
        "    protoc -I=$PYTHON_PACKAGES --python_out=$PYTHON_PACKAGES \\\n",
        "    $PYTHON_PACKAGES/swirl_lm/$proto\n",
        "done\n"
      ]
    },
    {
      "cell_type": "code",
      "execution_count": null,
      "metadata": {
        "id": "1clY_Anlsoeo"
      },
      "outputs": [],
      "source": [
        "import os\n",
        "import sys\n",
        "\n",
        "from absl import flags\n",
        "import matplotlib.pyplot as plt\n",
        "import numpy as np\n",
        "import tensorflow as tf\n",
        "\n",
        "from swirl_lm.base import driver\n",
        "from swirl_lm.base import driver_tpu\n",
        "from swirl_lm.base import parameters\n",
        "from swirl_lm.physics.combustion import turbulent_kinetic_energy\n",
        "from swirl_lm.utility import tpu_util\n",
        "\n",
        "FLAGS = flags.FLAGS\n",
        "\n",
        "# Setting the precision to float32.\n",
        "os.environ[\"XLA_FLAGS\"] = '--xla_jf_conv_full_precision=true'"
      ]
    },
    {
      "cell_type": "markdown",
      "metadata": {
        "id": "1SUgbnibHvf1"
      },
      "source": [
        "# Simulation Setup\n",
        "To initialize a simulation, one needs to provide the following:\n",
        "   * A text protobuf file that specifies the solver parameters and physical conditions of a simulation, e.g. boundary conditions\n",
        "   * A list of flags that specifies the simulation configuration (e.g. domain\n",
        "   size, partitions) and user defined parameters for a simulation\n",
        "   * A function that initializes state variables to start the simulation"
      ]
    },
    {
      "cell_type": "code",
      "execution_count": null,
      "metadata": {
        "id": "3q68e7H10Ek_"
      },
      "outputs": [],
      "source": [
        "# Creates the text protobuf.\n",
        "pbtxt = (\n",
        "    '# proto-file: swirl_lm/base/parameters.proto \\n'\n",
        "    '# proto-message: SwirlLMParameters \\n'\n",
        "    ' \\n'\n",
        "    'solver_procedure: VARIABLE_DENSITY \\n'\n",
        "    'convection_scheme: CONVECTION_SCHEME_QUICK \\n'\n",
        "    'time_integration_scheme: TIME_SCHEME_CN_EXPLICIT_ITERATION \\n'\n",
        "    'periodic { \\n'\n",
        "    '  dim_0: false \\n'\n",
        "    '  dim_1: false \\n'\n",
        "    '  dim_2: true \\n'\n",
        "    '} \\n'\n",
        "    'pressure { \\n'\n",
        "    '  solver { \\n'\n",
        "    '    jacobi { \\n'\n",
        "    '      max_iterations: 10 halo_width: 2 omega: 0.67 \\n'\n",
        "    '    } \\n'\n",
        "    '  } \\n'\n",
        "    '  num_d_rho_filter: 3 \\n'\n",
        "    '  update_p_bc_by_flow: true \\n'\n",
        "    '} \\n'\n",
        "    'thermodynamics { \\n'\n",
        "    '  constant_density {} \\n'\n",
        "    '} \\n'\n",
        "    'density: 1.0 \\n'\n",
        "    'kinematic_viscosity: 0.01 \\n'\n",
        "    'boundary_conditions { \\n'\n",
        "    '  name: \"u\" \\n'\n",
        "    '  boundary_info { \\n'\n",
        "    '    dim: 0 \\n'\n",
        "    '    location: 0 \\n'\n",
        "    '    type: BC_TYPE_DIRICHLET \\n'\n",
        "    '    value: 1.0 \\n'\n",
        "    '  } \\n'\n",
        "    '  boundary_info { \\n'\n",
        "    '    dim: 0 \\n'\n",
        "    '    location: 1 \\n'\n",
        "    '    type: BC_TYPE_NEUMANN \\n'\n",
        "    '    value: 0.0 \\n'\n",
        "    '  } \\n'\n",
        "    '  boundary_info { \\n'\n",
        "    '    dim: 1 \\n'\n",
        "    '    location: 0 \\n'\n",
        "    '    type: BC_TYPE_DIRICHLET \\n'\n",
        "    '    value: 0.0 \\n'\n",
        "    '  } \\n'\n",
        "    '  boundary_info { \\n'\n",
        "    '    dim: 1 \\n'\n",
        "    '    location: 1 \\n'\n",
        "    '    type: BC_TYPE_DIRICHLET \\n'\n",
        "    '    value: 0.0 \\n'\n",
        "    '  } \\n'\n",
        "    '} \\n'\n",
        "    'boundary_conditions { \\n'\n",
        "    '  name: \"v\" \\n'\n",
        "    '  boundary_info { \\n'\n",
        "    '    dim: 0 \\n'\n",
        "    '    location: 0 \\n'\n",
        "    '    type: BC_TYPE_DIRICHLET \\n'\n",
        "    '    value: 0.0 \\n'\n",
        "    '  } \\n'\n",
        "    '  boundary_info { \\n'\n",
        "    '    dim: 0 \\n'\n",
        "    '    location: 1 \\n'\n",
        "    '    type: BC_TYPE_NEUMANN \\n'\n",
        "    '    value: 0.0 \\n'\n",
        "    '  } \\n'\n",
        "    '  boundary_info { \\n'\n",
        "    '    dim: 1 \\n'\n",
        "    '    location: 0 \\n'\n",
        "    '    type: BC_TYPE_DIRICHLET \\n'\n",
        "    '    value: 0.0 \\n'\n",
        "    '  } \\n'\n",
        "    '  boundary_info { \\n'\n",
        "    '    dim: 1 \\n'\n",
        "    '    location: 1 \\n'\n",
        "    '    type: BC_TYPE_DIRICHLET \\n'\n",
        "    '    value: 0.0 \\n'\n",
        "    '  } \\n'\n",
        "    '} \\n'\n",
        "    'boundary_conditions { \\n'\n",
        "    '  name: \"w\" \\n'\n",
        "    '  boundary_info { \\n'\n",
        "    '    dim: 0 \\n'\n",
        "    '    location: 0 \\n'\n",
        "    '    type: BC_TYPE_DIRICHLET \\n'\n",
        "    '    value: 0.0 \\n'\n",
        "    '  } \\n'\n",
        "    '  boundary_info { \\n'\n",
        "    '    dim: 0 \\n'\n",
        "    '    location: 1 \\n'\n",
        "    '    type: BC_TYPE_NEUMANN \\n'\n",
        "    '    value: 0.0 \\n'\n",
        "    '  } \\n'\n",
        "    '  boundary_info { \\n'\n",
        "    '    dim: 1 \\n'\n",
        "    '    location: 0 \\n'\n",
        "    '    type: BC_TYPE_DIRICHLET \\n'\n",
        "    '    value: 0.0 \\n'\n",
        "    '  } \\n'\n",
        "    '  boundary_info { \\n'\n",
        "    '    dim: 1 \\n'\n",
        "    '    location: 1 \\n'\n",
        "    '    type: BC_TYPE_DIRICHLET \\n'\n",
        "    '    value: 0.0 \\n'\n",
        "    '  } \\n'\n",
        "    '} \\n'\n",
        ")\n",
        "\n",
        "with open('channel.pbtxt', 'w') as f:\n",
        "  f.write(pbtxt)\n",
        "  "
      ]
    },
    {
      "cell_type": "code",
      "execution_count": null,
      "metadata": {
        "id": "agNfoZQts5Qx"
      },
      "outputs": [],
      "source": [
        "# Prepares the simulation flags. \n",
        "flags.DEFINE_string('f', '', 'kernel')\n",
        "\n",
        "# The number of cores in 3 dimensions.\n",
        "FLAGS.cx = 4\n",
        "FLAGS.cy = 2\n",
        "FLAGS.cz = 1\n",
        "\n",
        "# The number of grid points per core in 3 dimensions including ghost cells\n",
        "# (halos).\n",
        "FLAGS.nx = 128\n",
        "FLAGS.ny = 64\n",
        "FLAGS.nz = 8\n",
        "\n",
        "# The physical size of the simulation domain in units of m.\n",
        "FLAGS.lx = 4.0\n",
        "FLAGS.ly = 1.0\n",
        "FLAGS.lz = 0.01\n",
        "\n",
        "# The time step size in units of s.\n",
        "FLAGS.dt = 1e-3\n",
        "\n",
        "# The width of the ghost cells on each side of the domain. It is set to 2\n",
        "# considering the stencil width of the QUICK scheme.\n",
        "FLAGS.halo_width = 2\n",
        "\n",
        "# The size of the convolution kernel to be used for fundamental numerical\n",
        "# operations.\n",
        "FLAGS.kernel_size = 16\n",
        "\n",
        "# The number of time steps to run before restart data files are written. The\n",
        "# completion of these steps is considered as a cycle.\n",
        "FLAGS.num_steps = 100\n",
        "\n",
        "# The number of cycles to run in this simulation. It determines the number of\n",
        "# snapshots to save as restart data files. Note that this parameter is not used\n",
        "# in this demo.\n",
        "FLAGS.num_cycles = 1\n",
        "\n",
        "# The prefix of restart files to be written out.\n",
        "FLAGS.data_dump_prefix = './channel/channel'\n",
        "\n",
        "# The prefix of restart files to be loaded as initial conditions.\n",
        "FLAGS.data_load_prefix = './channel/channel'\n",
        "\n",
        "# The full path of the simulation configuration file.\n",
        "FLAGS.config_filepath = './channel.pbtxt'\n",
        "\n",
        "FLAGS(sys.argv)\n"
      ]
    },
    {
      "cell_type": "code",
      "execution_count": null,
      "metadata": {
        "id": "HPGw1oMqsnPM"
      },
      "outputs": [],
      "source": [
        "# Defines the function that initializes state variables.\n",
        "\n",
        "def init_fn_channel(replica_id, coordinates):\n",
        "  \"\"\"Initializes state variables in a channel flow.\"\"\"\n",
        "  del coordinates\n",
        "\n",
        "  return {\n",
        "      'replica_id': replica_id,\n",
        "      'rho': tf.ones((FLAGS.nz, FLAGS.nx, FLAGS.ny), dtype=tf.float32),\n",
        "      'u': tf.ones((FLAGS.nz, FLAGS.nx, FLAGS.ny), dtype=tf.float32),\n",
        "      'v': tf.zeros((FLAGS.nz, FLAGS.nx, FLAGS.ny), dtype=tf.float32),\n",
        "      'w': tf.zeros((FLAGS.nz, FLAGS.nx, FLAGS.ny), dtype=tf.float32),\n",
        "      'p': tf.zeros((FLAGS.nz, FLAGS.nx, FLAGS.ny), dtype=tf.float32),\n",
        "   }\n"
      ]
    },
    {
      "cell_type": "code",
      "execution_count": null,
      "metadata": {
        "id": "SCU8a0_xPXcw"
      },
      "outputs": [],
      "source": [
        "# Prepares the simulation configuration.\n",
        "params = parameters.params_from_config_file_flag()\n"
      ]
    },
    {
      "cell_type": "markdown",
      "metadata": {
        "id": "5EJPqmDYJkJm"
      },
      "source": [
        "# TPU initialization"
      ]
    },
    {
      "cell_type": "code",
      "execution_count": null,
      "metadata": {
        "id": "dCBrOfKjRryM"
      },
      "outputs": [],
      "source": [
        "# Initializes the TPU strategy.\n",
        "computation_shape = np.array([params.cx, params.cy, params.cz])\n",
        "\n",
        "try:\n",
        "  tpu = tf.distribute.cluster_resolver.TPUClusterResolver()  # TPU detection\n",
        "  print('Running on TPU ', tpu.cluster_spec().as_dict()['worker'])\n",
        "except ValueError:\n",
        "  raise BaseException(\n",
        "      'ERROR: Not connected to a TPU runtime; please see the previous cell in '\n",
        "      'this notebook for instructions!')\n",
        "\n",
        "tf.config.experimental_connect_to_cluster(tpu)\n",
        "topology = tf.tpu.experimental.initialize_tpu_system(tpu)\n",
        "device_assignment, _ = tpu_util.tpu_device_assignment(\n",
        "      computation_shape=computation_shape, tpu_topology=topology)\n",
        "tpu_strategy = tf.distribute.experimental.TPUStrategy(\n",
        "    tpu, device_assignment=device_assignment)\n",
        "logical_coordinates = tpu_util.grid_coordinates(computation_shape).tolist()\n",
        "\n",
        "print(\"All devices: \", tf.config.list_logical_devices('TPU'))"
      ]
    },
    {
      "cell_type": "markdown",
      "metadata": {
        "id": "nMshD0ypJpMK"
      },
      "source": [
        "# Run the simulation"
      ]
    },
    {
      "cell_type": "code",
      "execution_count": null,
      "metadata": {
        "id": "RTenkLxms0Fe"
      },
      "outputs": [],
      "source": [
        "# initializes the simulation.\n",
        "state = driver_tpu.distribute_values(\n",
        "      tpu_strategy, value_fn=init_fn_channel,\n",
        "      logical_coordinates=logical_coordinates)\n",
        "      "
      ]
    },
    {
      "cell_type": "code",
      "execution_count": null,
      "metadata": {
        "id": "hKn1z1iDQ2YQ"
      },
      "outputs": [],
      "source": [
        "# Runs the simulation for one cycle.\n",
        "%%time\n",
        "step_id = tf.constant(0)\n",
        "\n",
        "state = driver._one_cycle(\n",
        "    strategy=tpu_strategy,\n",
        "    init_state=state,\n",
        "    init_step_id=step_id,\n",
        "    num_steps=FLAGS.num_steps,\n",
        "    params=params)"
      ]
    },
    {
      "cell_type": "markdown",
      "metadata": {
        "id": "iaRaQqgxnvxC"
      },
      "source": [
        "Note that the runtime for the code block above is long. This is due to the JIT compilzation of the TensorFlow graph when a function is called for the first time. The compiled graph will be used for subsequent calls to the same function with the same input type. The actual runtime for 100 steps in this example is\n",
        "around 10 ms (try running the code block below and see how the timing changes)."
      ]
    },
    {
      "cell_type": "code",
      "execution_count": null,
      "metadata": {
        "id": "N2QQf7wsnpME"
      },
      "outputs": [],
      "source": [
        "%%time\n",
        "step_id += FLAGS.num_steps\n",
        "\n",
        "state = driver._one_cycle(\n",
        "    strategy=tpu_strategy,\n",
        "    init_state=state,\n",
        "    init_step_id=step_id,\n",
        "    num_steps=FLAGS.num_steps,\n",
        "    params=params)"
      ]
    },
    {
      "cell_type": "markdown",
      "metadata": {
        "id": "4ebMB2o1HEMS"
      },
      "source": [
        "# Post-processing"
      ]
    },
    {
      "cell_type": "code",
      "execution_count": null,
      "metadata": {
        "id": "YhUEGUqo98I-"
      },
      "outputs": [],
      "source": [
        "# Utility functions for postprocessing.\n",
        "\n",
        "def merge_result(values, coordinates, halo_width):\n",
        "  \"\"\"Merges results from multiple TPU replicas following the topology.\"\"\"\n",
        "  if len(values) != len(coordinates):\n",
        "    raise(\n",
        "        ValueError,\n",
        "        f'The length of `value` and `coordinates` must equal. Now `values` has '\n",
        "        f'length {len(values)}, but `coordinates` has length '\n",
        "        f'{len(coordinates)}.')\n",
        "\n",
        "  # The results are oriented in order z-x-y.\n",
        "  nz, nx, ny = values[0].shape\n",
        "  nz_0, nx_0, ny_0 = [n - 2 * halo_width for n in (nz, nx, ny)]\n",
        "\n",
        "  # The topology is oriented in order x-y-z.\n",
        "  cx, cy, cz = np.array(np.max(coordinates, axis=0)) + 1\n",
        "\n",
        "  # Compute the total size without ghost cells/halos.\n",
        "  shape = [n * c for n, c in zip([nz_0, nx_0, ny_0], [cz, cx, cy])]\n",
        "\n",
        "  result = np.empty(shape, dtype=np.float32)\n",
        "\n",
        "  for replica in range(len(coordinates)):\n",
        "    s = np.roll(\n",
        "        [c * n for c, n in zip(coordinates[replica], (nx_0, ny_0, nz_0))],\n",
        "        shift=1)\n",
        "    e = [s_i + n for s_i, n in zip(s, (nz_0, nx_0, ny_0))]\n",
        "    result[s[0]:e[0], s[1]:e[1], s[2]:e[2]] = (\n",
        "        values[replica][halo_width:nz_0 + halo_width,\n",
        "                        halo_width:nx_0 + halo_width,\n",
        "                        halo_width:ny_0 + halo_width])\n",
        "\n",
        "  return result\n",
        "\n"
      ]
    },
    {
      "cell_type": "code",
      "execution_count": null,
      "metadata": {
        "cellView": "form",
        "id": "VPlmjPF07-vR"
      },
      "outputs": [],
      "source": [
        "#@title Results visualization\n",
        "varname = 'u'  #@param ['u', 'v', 'w', 'p', 'rho']\n",
        "\n",
        "result = merge_result(\n",
        "    state[varname].values, logical_coordinates, FLAGS.halo_width)\n",
        "\n",
        "nx = (FLAGS.nx - 2 * FLAGS.halo_width) * FLAGS.cx\n",
        "ny = (FLAGS.ny - 2 * FLAGS.halo_width) * FLAGS.cy\n",
        "nz = (FLAGS.nz - 2 * FLAGS.halo_width) * FLAGS.cz\n",
        "\n",
        "x = np.linspace(0.0, FLAGS.lx, nx)\n",
        "y = np.linspace(0.0, FLAGS.ly, ny)\n",
        "z = np.linspace(0.0, FLAGS.lz, nz)\n",
        "\n",
        "fig, ax = plt.subplots(figsize=(18, 6))\n",
        "c = ax.contourf(x, y, result[nz // 2, ...].transpose(), cmap='jet', levels=21)\n",
        "fig.colorbar(c)\n",
        "ax.axis('equal')\n",
        "plt.show()\n"
      ]
    }
  ],
  "metadata": {
    "accelerator": "TPU",
    "colab": {
      "collapsed_sections": [],
      "last_runtime": {
        "build_target": "//learning/brain/python/client:colab_notebook",
        "kind": "shared"
      },
      "name": "swirl_lm_public_demo1_channel.ipynb",
      "private_outputs": true,
      "provenance": [
        {
          "file_id": "1fAoC77ZDdifUu8blRhgyqclULdXAe8yc",
          "timestamp": 1660695462479
        }
      ],
      "toc_visible": true
    },
    "gpuClass": "standard",
    "kernelspec": {
      "display_name": "Python 3",
      "name": "python3"
    },
    "language_info": {
      "name": "python"
    }
  },
  "nbformat": 4,
  "nbformat_minor": 0
}
